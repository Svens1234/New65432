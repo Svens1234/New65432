{
 "cells": [
  {
   "cell_type": "code",
   "execution_count": 1,
   "id": "2b1cc641",
   "metadata": {},
   "outputs": [],
   "source": [
    "import scipy.constants as CONST"
   ]
  },
  {
   "cell_type": "code",
   "execution_count": 2,
   "id": "6a5917dd",
   "metadata": {},
   "outputs": [
    {
     "data": {
      "text/plain": [
       "60.0"
      ]
     },
     "execution_count": 2,
     "metadata": {},
     "output_type": "execute_result"
    }
   ],
   "source": [
    "CONST.minute"
   ]
  },
  {
   "cell_type": "code",
   "execution_count": 3,
   "id": "1cbb2595",
   "metadata": {},
   "outputs": [
    {
     "data": {
      "text/plain": [
       "3600.0"
      ]
     },
     "execution_count": 3,
     "metadata": {},
     "output_type": "execute_result"
    }
   ],
   "source": [
    "CONST.hour"
   ]
  },
  {
   "cell_type": "code",
   "execution_count": 4,
   "id": "0f91d9f0",
   "metadata": {},
   "outputs": [
    {
     "data": {
      "text/plain": [
       "86400.0"
      ]
     },
     "execution_count": 4,
     "metadata": {},
     "output_type": "execute_result"
    }
   ],
   "source": [
    "CONST.day"
   ]
  },
  {
   "cell_type": "code",
   "execution_count": 5,
   "id": "d5940fb8",
   "metadata": {},
   "outputs": [
    {
     "data": {
      "text/plain": [
       "604800.0"
      ]
     },
     "execution_count": 5,
     "metadata": {},
     "output_type": "execute_result"
    }
   ],
   "source": [
    "CONST.week"
   ]
  },
  {
   "cell_type": "code",
   "execution_count": 6,
   "id": "75f283ca",
   "metadata": {},
   "outputs": [
    {
     "data": {
      "text/plain": [
       "31536000.0"
      ]
     },
     "execution_count": 6,
     "metadata": {},
     "output_type": "execute_result"
    }
   ],
   "source": [
    "CONST.year"
   ]
  },
  {
   "cell_type": "code",
   "execution_count": null,
   "id": "6cee6153",
   "metadata": {},
   "outputs": [],
   "source": []
  }
 ],
 "metadata": {
  "kernelspec": {
   "display_name": "Python 3 (ipykernel)",
   "language": "python",
   "name": "python3"
  },
  "language_info": {
   "codemirror_mode": {
    "name": "ipython",
    "version": 3
   },
   "file_extension": ".py",
   "mimetype": "text/x-python",
   "name": "python",
   "nbconvert_exporter": "python",
   "pygments_lexer": "ipython3",
   "version": "3.10.5"
  }
 },
 "nbformat": 4,
 "nbformat_minor": 5
}
